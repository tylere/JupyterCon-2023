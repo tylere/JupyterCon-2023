{
  "nbformat": 4,
  "nbformat_minor": 0,
  "metadata": {
    "colab": {
      "provenance": [],
      "authorship_tag": "ABX9TyMawSRb4aqPzH5xLfkIof7I",
      "include_colab_link": true
    },
    "kernelspec": {
      "name": "python3",
      "display_name": "Python 3"
    },
    "language_info": {
      "name": "python"
    }
  },
  "cells": [
    {
      "cell_type": "markdown",
      "metadata": {
        "id": "view-in-github",
        "colab_type": "text"
      },
      "source": [
        "<a href=\"https://colab.research.google.com/github/tylere/JupyterCon-2023/blob/main/JupyterCon_2023_Poster.ipynb\" target=\"_parent\"><img src=\"https://colab.research.google.com/assets/colab-badge.svg\" alt=\"Open In Colab\"/></a>"
      ]
    },
    {
      "cell_type": "markdown",
      "source": [
        "# Overview\n",
        "\n",
        "The purpose of this notebook is to demonstrate display and inspection of satellite imagery."
      ],
      "metadata": {
        "id": "qjBd4UXLauhT"
      }
    },
    {
      "cell_type": "markdown",
      "source": [
        "# Setup"
      ],
      "metadata": {
        "id": "T7RKRGp2YIXc"
      }
    },
    {
      "cell_type": "markdown",
      "source": [
        "Colab does not contain the [google/earthengine-jupyter](https://github.com/google/earthengine-jupyter) package, so run a shell command to install it."
      ],
      "metadata": {
        "id": "wDoflDgsgaG4"
      }
    },
    {
      "cell_type": "code",
      "source": [
        "!pip install -q git+https://github.com/google/earthengine-jupyter.git@704c5f31a7d2de855e90357320d94425a7b6a791"
      ],
      "metadata": {
        "id": "wX6wRaCSdh_r"
      },
      "execution_count": null,
      "outputs": []
    },
    {
      "cell_type": "markdown",
      "source": [
        "Import packages used in this example."
      ],
      "metadata": {
        "id": "1KC7kfK2vWxa"
      }
    },
    {
      "cell_type": "code",
      "source": [
        "import datetime  # for date object manipulation\n",
        "import ee  # the Earth Engine Python client library\n",
        "import google  # for authentication to Google services\n",
        "import ipywidgets as widgets  # interactive widgets (standard)\n",
        "import ipyleaflet  # interactive mapping widget\n",
        "from ee_jupyter.layout import MapWithInspector "
      ],
      "metadata": {
        "id": "B-Ar8-WjYK3c"
      },
      "execution_count": null,
      "outputs": []
    },
    {
      "cell_type": "markdown",
      "source": [
        "Specify the name of a [Google Cloud Project](https://console.cloud.google.com/) that will be used for data requests to Earth Engine. This project needs to have the [Google Earth Engine API](https://console.cloud.google.com/apis/api/earthengine.googleapis.com/) enabled. "
      ],
      "metadata": {
        "id": "Jopi7YtQZfXI"
      }
    },
    {
      "cell_type": "code",
      "source": [
        "COLAB_AUTH_FLOW_CLOUD_PROJECT_FOR_API_CALLS = 'tylerickson-misc'"
      ],
      "metadata": {
        "id": "x_ATBMZGYTmL"
      },
      "execution_count": null,
      "outputs": []
    },
    {
      "cell_type": "markdown",
      "source": [
        "Authenticate access to Earth Engine, using the Colab authentication workflow."
      ],
      "metadata": {
        "id": "EQdq7jgzafjw"
      }
    },
    {
      "cell_type": "code",
      "source": [
        "# Authenticate to populate Application Default Credentials in the Colab VM.\n",
        "google.colab.auth.authenticate_user()\n",
        "# Create credentials needed for accessing Earth Engine.\n",
        "credentials, auth_project_id = google.auth.default()\n",
        "# Initialize Earth Engine.\n",
        "ee.Initialize(credentials, project=COLAB_AUTH_FLOW_CLOUD_PROJECT_FOR_API_CALLS)\n",
        "print('\\N{check mark} Successfully initialized!')"
      ],
      "metadata": {
        "id": "aa43o2tMYYne"
      },
      "execution_count": null,
      "outputs": []
    },
    {
      "cell_type": "markdown",
      "source": [
        "# Analysis: Inspection of Earth Data\n",
        "\n",
        "This section demonstrates how to display Earth data on an interactive map."
      ],
      "metadata": {
        "id": "8GpQFZy9eyKk"
      }
    },
    {
      "cell_type": "markdown",
      "source": [
        "First, define a set of datasets that will be made available for visualization. Additional datasets can be found in the [Earth Engine Data Catalog](https://developers.google.com/earth-engine/datasets)."
      ],
      "metadata": {
        "id": "CXmKvfVyzCbC"
      }
    },
    {
      "cell_type": "code",
      "source": [
        "datasets = {\n",
        "    'Sentinel-2': {\n",
        "        'desc': 'Optical imagery: Sentinel-2 TOA, 2015-present',\n",
        "        'base_collection': \"COPERNICUS/S2_HARMONIZED\",\n",
        "        'vis_params': {\n",
        "          'bands': ['B4', 'B3', 'B2'],\n",
        "          'min': 0,\n",
        "          'max': 3000,\n",
        "        }\n",
        "    },\n",
        "    'Dynamic World V1':{\n",
        "        'desc': 'Land Cover / Land Use Probabilities: Based on Sentinel-2, 2015-2100',\n",
        "        'base_collection': \"GOOGLE/DYNAMICWORLD/V1\",\n",
        "        'vis_params': {\n",
        "          'bands': 'label',\n",
        "          'min': 0,\n",
        "          'max': 8,\n",
        "          'palette': ['419BDF', '397D49', '88B053', '7A87C6',\n",
        "                      'E49635', 'DFC35A', 'C4281B', 'A59B8F', 'B39FE1']\n",
        "        }\n",
        "    },\n",
        "    'MOD14A1.061': {\n",
        "        'desc': 'Thermal Anomalies & Fire (MODIS) 2000-present',\n",
        "        'base_collection': \"MODIS/061/MOD14A1\",\n",
        "        'vis_params': {\n",
        "          'bands': ['MaxFRP', 'FireMask', 'FireMask'],\n",
        "          'min': 0,\n",
        "          'max': 6000,\n",
        "        }\n",
        "    },\n",
        "    'NEX-GDDP tas':{\n",
        "        'desc': 'Climate projection (tas; GFDL-ESM4; Scenario SSP245) 2015-2100',\n",
        "        'base_collection': \"NASA/GDDP-CMIP6\",\n",
        "        'filter': ee.Filter.And(\n",
        "            ee.Filter.eq('model', 'GFDL-ESM4'),\n",
        "            ee.Filter.eq('scenario', 'ssp245'),\n",
        "        ),\n",
        "        'vis_params': {\n",
        "          'bands': ['tas'], # Daily near-surface air temperature.\n",
        "          'min': 273.15 - 25,\n",
        "          'max': 273.15 + 50,\n",
        "          'palette': ['white', 'grey', 'pink', 'red']\n",
        "        }\n",
        "    },\n",
        "    'NEX-GDDP pr':{\n",
        "        'desc': 'Climate projection (pr; GFDL-ESM4; Scenario SSP245) 2015-2100',\n",
        "        'base_collection': \"NASA/GDDP-CMIP6\",\n",
        "        'filter': ee.Filter.And(\n",
        "            ee.Filter.eq('model', 'GFDL-ESM4'),\n",
        "            ee.Filter.eq('scenario', 'ssp245'),\n",
        "        ),\n",
        "        'vis_params': {\n",
        "          'bands': ['pr'], # Daily near-surface air temperature.\n",
        "          'min': 0,\n",
        "          'max': 5e-4,\n",
        "          'palette': ['white', 'blue']\n",
        "        }\n",
        "    },\n",
        "    'Landsat 9':{\n",
        "        'desc': 'Optical satellite, Landsat 9, 2021-',\n",
        "        'base_collection': \"LANDSAT/LC09/C02/T1_L2\",\n",
        "        'vis_params': {\n",
        "          'bands': ['SR_B4', 'SR_B3', 'SR_B2'],\n",
        "          'min': 0,\n",
        "          'max': 30000\n",
        "        }\n",
        "    },\n",
        "    'Landsat 8':{\n",
        "        'desc': 'Optical satellite, Landsat 8, 2013-2023',\n",
        "        'base_collection': \"LANDSAT/LC08/C02/T1_L2\",\n",
        "        'vis_params': {\n",
        "          'bands': ['SR_B4', 'SR_B3', 'SR_B2'],\n",
        "          'min': 0,\n",
        "          'max': 30000\n",
        "        }\n",
        "    },\n",
        "    'Landsat 7':{\n",
        "        'desc': 'Optical satellite, Landsat 7, 1999-2023',\n",
        "        'base_collection': \"LANDSAT/LE07/C02/T1_L2\",\n",
        "        'vis_params': {\n",
        "          'bands': ['SR_B3', 'SR_B2', 'SR_B1'],\n",
        "          'min': 0,\n",
        "          'max': 30000\n",
        "        }\n",
        "    },\n",
        "    'Landsat 5':{\n",
        "        'desc': 'Optical satellite, Landsat 5, 1984-2012',\n",
        "        'base_collection': \"LANDSAT/LT05/C02/T1_L2\",\n",
        "        'vis_params': {\n",
        "          'bands': ['SR_B3', 'SR_B2', 'SR_B1'],\n",
        "          'min': 0,\n",
        "          'max': 30000\n",
        "        }\n",
        "    },\n",
        "}"
      ],
      "metadata": {
        "id": "uqPuB1-ZxP40"
      },
      "execution_count": null,
      "outputs": []
    },
    {
      "cell_type": "markdown",
      "source": [
        "Define widgets that allow a user to select a dataset, starting date and time interval."
      ],
      "metadata": {
        "id": "-tB2UMPmAJOv"
      }
    },
    {
      "cell_type": "code",
      "source": [
        "dataset_picker = widgets.Dropdown(\n",
        "    options=[(v['desc'], k) for k,v in datasets.items()],\n",
        "    description='Dataset:',\n",
        "    layout=widgets.Layout(width='600px')\n",
        ")\n",
        "\n",
        "date_picker = widgets.DatePicker(\n",
        "    description='Start Date:',\n",
        "    value=datetime.date(2023, 4, 28)\n",
        ")\n",
        "\n",
        "num_days_slider = widgets.IntSlider(\n",
        "    value=1,\n",
        "    min=1,\n",
        "    max=16,\n",
        "    step=1,\n",
        "    description='# Days:',\n",
        "    continuous_update=False\n",
        ")"
      ],
      "metadata": {
        "id": "CnNF9Qiwc4xu"
      },
      "execution_count": null,
      "outputs": []
    },
    {
      "cell_type": "markdown",
      "source": [
        "Define a function to update the data layers displayed on the map. This function is called when the widget controls are updated."
      ],
      "metadata": {
        "id": "VOn9eEjl0b1-"
      }
    },
    {
      "cell_type": "code",
      "source": [
        "def update_map_layer(_map):\n",
        "  if len(_map.layers) > baselayer_count(_map):\n",
        "    # Remove the tile layer.\n",
        "    _map.remove_layer(_map.layers[baselayer_count(_map)])\n",
        "\n",
        "  if date_picker.value and num_days_slider.value:\n",
        "\n",
        "    dataset = datasets[dataset_picker.value]\n",
        "\n",
        "    # Select a collection of satellite images from a date window.\n",
        "    start_date = date_picker.value\n",
        "    end_date = date_picker.value + datetime.timedelta(days=num_days_slider.value)\n",
        "    collection = (\n",
        "        ee.ImageCollection(dataset['base_collection'])\n",
        "          .filterDate(\n",
        "              start_date.isoformat(),\n",
        "              end_date.isoformat()\n",
        "          )\n",
        "    )\n",
        "    if 'filter' in dataset:\n",
        "      collection = collection.filter(dataset['filter'])\n",
        "\n",
        "    # Add a new tile layer.\n",
        "    _map.addLayer(\n",
        "      eeObject=collection.mosaic(),\n",
        "      visParams=dataset['vis_params'],\n",
        "      name=dataset_picker.value\n",
        "    )"
      ],
      "metadata": {
        "id": "DWl7NCM2DBUt"
      },
      "execution_count": null,
      "outputs": []
    },
    {
      "cell_type": "markdown",
      "source": [
        "Define a set of [basemap tile layers](https://ipyleaflet.readthedocs.io/en/latest/map_and_basemaps/basemaps.html) to display on the interactive map."
      ],
      "metadata": {
        "id": "T3_AdpE70DUM"
      }
    },
    {
      "cell_type": "code",
      "source": [
        "positron = ipyleaflet.basemap_to_tiles(ipyleaflet.basemaps.CartoDB.Positron)\n",
        "positron.base = True\n",
        "positron.name = 'Positron Layer'\n",
        "\n",
        "satellite = ipyleaflet.basemap_to_tiles(ipyleaflet.basemaps.Esri.WorldImagery)\n",
        "satellite.base = True\n",
        "satellite.name = 'Satellite Layer'\n",
        "\n",
        "def baselayer_count(map):\n",
        "  return len([x for x in map.layers if x.base])"
      ],
      "metadata": {
        "id": "MO4K5_bl0Nkq"
      },
      "execution_count": null,
      "outputs": []
    },
    {
      "cell_type": "markdown",
      "source": [
        "Trigger updating the map when a widget is updated."
      ],
      "metadata": {
        "id": "O2yO4oWi4O4s"
      }
    },
    {
      "cell_type": "code",
      "source": [
        "def handle_dataset_change(change, **kwargs):\n",
        "  update_map_layer(map1.map)\n",
        "\n",
        "dataset_picker.observe(handle_dataset_change, names=['value'])\n",
        "\n",
        "def handle_date_change(change, **kwargs):\n",
        "  update_map_layer(map1.map)\n",
        "\n",
        "date_picker.observe(handle_date_change, names=['value'])\n",
        "\n",
        "def handle_num_days_change(change, **kwargs):\n",
        "  update_map_layer(map1.map)\n",
        "\n",
        "num_days_slider.observe(handle_num_days_change, names=['value'])"
      ],
      "metadata": {
        "id": "Ylslzpwi9AeS"
      },
      "execution_count": null,
      "outputs": []
    },
    {
      "cell_type": "markdown",
      "source": [
        "Display the interactive map and widgets."
      ],
      "metadata": {
        "id": "7Kcu_YXc4Xtk"
      }
    },
    {
      "cell_type": "code",
      "source": [
        "map1 = MapWithInspector(\n",
        "    center=(48.895557, 2.388747), zoom=7,\n",
        "    layers=[satellite, positron]\n",
        ")\n",
        "update_map_layer(map1.map)\n",
        "widgets.VBox([\n",
        "    dataset_picker,\n",
        "    widgets.HBox([date_picker, num_days_slider]),\n",
        "    map1\n",
        "])"
      ],
      "metadata": {
        "id": "5st-sgPUAXwT"
      },
      "execution_count": null,
      "outputs": []
    },
    {
      "cell_type": "markdown",
      "source": [
        "## Exploring the Data\n",
        "\n",
        "Explore the data by doing the following:\n",
        "\n",
        "*   Pan/Zoom the map.\n",
        "*   Change the dataset selector.\n",
        "*   Change the start date and/or time interval."
      ],
      "metadata": {
        "id": "mMBRppHM5XyH"
      }
    },
    {
      "cell_type": "markdown",
      "source": [
        "If you find something interesting, you can use the following code block to print code that programmatically sets the widget controls."
      ],
      "metadata": {
        "id": "liDYD0tX4r5e"
      }
    },
    {
      "cell_type": "code",
      "source": [
        "print(f'map1.map.center = {map1.map.center}')\n",
        "print(f'map1.map.zoom = {map1.map.zoom}')\n",
        "print(f\"dataset_picker.value = '{dataset_picker.value}'\")\n",
        "print(f\"date_picker.value = datetime.date({date_picker.value.year}, \"\n",
        "                                        f\"{date_picker.value.month}, \"\n",
        "                                        f\"{date_picker.value.day})\")\n",
        "print(f'num_days_slider.value = {num_days_slider.value}')"
      ],
      "metadata": {
        "id": "V6tqloAt9PCG"
      },
      "execution_count": null,
      "outputs": []
    },
    {
      "cell_type": "markdown",
      "source": [
        "## Examples"
      ],
      "metadata": {
        "id": "NlQ5ycN__qck"
      }
    },
    {
      "cell_type": "markdown",
      "source": [
        "### Recent fire in the Brazilian Amazon\n"
      ],
      "metadata": {
        "id": "EWULnWzv80Ks"
      }
    },
    {
      "cell_type": "code",
      "source": [
        "# Center map on Cité des sciences et de l'industrie, Paris.\n",
        "map1.map.center = [-11.58423973562834, -52.50580264266333]\n",
        "map1.map.zoom = 11.0\n",
        "dataset_picker.value = 'MOD14A1.061'\n",
        "date_picker.value = datetime.date(2023, 4, 28)\n",
        "num_days_slider.value = 10"
      ],
      "metadata": {
        "id": "Kz6wihWP8BSF"
      },
      "execution_count": null,
      "outputs": []
    },
    {
      "cell_type": "markdown",
      "source": [
        "### Projected daily surface temperature for 2050 (a single simulation)"
      ],
      "metadata": {
        "id": "nMY4tyBPAgmE"
      }
    },
    {
      "cell_type": "code",
      "source": [
        "map1.map.center = [14.202428165137302, 64.63615416897834]\n",
        "map1.map.zoom = 2.0\n",
        "dataset_picker.value = 'NEX-GDDP tas'\n",
        "date_picker.value = datetime.date(2050, 7, 1)\n",
        "num_days_slider.value = 5"
      ],
      "metadata": {
        "id": "qm_zh1Ee9RZg"
      },
      "execution_count": null,
      "outputs": []
    },
    {
      "cell_type": "markdown",
      "source": [
        "### Cité des sciences et de l'industrie, Paris, peeking through the clouds"
      ],
      "metadata": {
        "id": "IPgSM-LN5htI"
      }
    },
    {
      "cell_type": "code",
      "source": [
        "# Center map on Cité des sciences et de l'industrie, Paris.\n",
        "map1.map.center = (48.895557, 2.388747)\n",
        "map1.map.zoom = 11\n",
        "dataset_picker.value = 'Sentinel-2'\n",
        "date_picker.value = datetime.date(2023, 5, 8)\n",
        "num_days_slider.value = 1"
      ],
      "metadata": {
        "id": "eLr0Ect_hGRa"
      },
      "execution_count": null,
      "outputs": []
    },
    {
      "cell_type": "code",
      "source": [],
      "metadata": {
        "id": "QLukb-U7cK1q"
      },
      "execution_count": null,
      "outputs": []
    }
  ]
}