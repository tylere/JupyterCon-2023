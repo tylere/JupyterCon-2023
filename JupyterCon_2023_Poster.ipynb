{
  "nbformat": 4,
  "nbformat_minor": 0,
  "metadata": {
    "colab": {
      "provenance": [],
      "authorship_tag": "ABX9TyMawSRb4aqPzH5xLfkIof7I",
      "include_colab_link": true
    },
    "kernelspec": {
      "name": "python3",
      "display_name": "Python 3"
    },
    "language_info": {
      "name": "python"
    },
    "widgets": {
      "application/vnd.jupyter.widget-state+json": {
        "4b086f7a4fa749b49ea88d8abc51ebc0": {
          "model_module": "@jupyter-widgets/controls",
          "model_name": "VBoxModel",
          "model_module_version": "1.5.0",
          "state": {
            "_dom_classes": [],
            "_model_module": "@jupyter-widgets/controls",
            "_model_module_version": "1.5.0",
            "_model_name": "VBoxModel",
            "_view_count": null,
            "_view_module": "@jupyter-widgets/controls",
            "_view_module_version": "1.5.0",
            "_view_name": "VBoxView",
            "box_style": "",
            "children": [
              "IPY_MODEL_53621f6405154e4a870dd689e6499fd3",
              "IPY_MODEL_90b89871ad7a4b19b4a0ab305b621474",
              "IPY_MODEL_3413cb903cf34d26b446f353171b99ac"
            ],
            "layout": "IPY_MODEL_caa3b37476f643cda5e6816acf269163"
          }
        },
        "53621f6405154e4a870dd689e6499fd3": {
          "model_module": "@jupyter-widgets/controls",
          "model_name": "DropdownModel",
          "model_module_version": "1.5.0",
          "state": {
            "_dom_classes": [],
            "_model_module": "@jupyter-widgets/controls",
            "_model_module_version": "1.5.0",
            "_model_name": "DropdownModel",
            "_options_labels": [
              "Optical imagery: Sentinel-2 TOA, 2015-present",
              "Land Cover / Land Use Probabilities: Based on Sentinel-2, 2015-2100",
              "Thermal Anomalies & Fire (MODIS) 2000-present",
              "Climate projection (tas; GFDL-ESM4; Scenario SSP245) 2015-2100",
              "Climate projection (pr; GFDL-ESM4; Scenario SSP245) 2015-2100",
              "Optical satellite, Landsat 9, 2021-",
              "Optical satellite, Landsat 8, 2013-2023",
              "Optical satellite, Landsat 7, 1999-2023",
              "Optical satellite, Landsat 5, 1984-2012"
            ],
            "_view_count": null,
            "_view_module": "@jupyter-widgets/controls",
            "_view_module_version": "1.5.0",
            "_view_name": "DropdownView",
            "description": "Dataset:",
            "description_tooltip": null,
            "disabled": false,
            "index": 0,
            "layout": "IPY_MODEL_5174393f566e4ce2aca70d0d1072dcf3",
            "style": "IPY_MODEL_a802da3d27124080a65c3921481cb2ba"
          }
        },
        "90b89871ad7a4b19b4a0ab305b621474": {
          "model_module": "@jupyter-widgets/controls",
          "model_name": "HBoxModel",
          "model_module_version": "1.5.0",
          "state": {
            "_dom_classes": [],
            "_model_module": "@jupyter-widgets/controls",
            "_model_module_version": "1.5.0",
            "_model_name": "HBoxModel",
            "_view_count": null,
            "_view_module": "@jupyter-widgets/controls",
            "_view_module_version": "1.5.0",
            "_view_name": "HBoxView",
            "box_style": "",
            "children": [
              "IPY_MODEL_629a5c4bf9e941889b579e4247b8f119",
              "IPY_MODEL_6cb0a2d3c94e44cdac88f83f6391b927"
            ],
            "layout": "IPY_MODEL_20b72892c728485aafbaf08db43f6cd4"
          }
        },
        "3413cb903cf34d26b446f353171b99ac": {
          "model_module": "@jupyter-widgets/controls",
          "model_name": "HBoxModel",
          "model_module_version": "1.5.0",
          "state": {
            "_dom_classes": [],
            "_model_module": "@jupyter-widgets/controls",
            "_model_module_version": "1.5.0",
            "_model_name": "HBoxModel",
            "_view_count": null,
            "_view_module": "@jupyter-widgets/controls",
            "_view_module_version": "1.5.0",
            "_view_name": "HBoxView",
            "box_style": "",
            "children": [
              "IPY_MODEL_4ad1a87475194554afe4520d4c25b7d1",
              "IPY_MODEL_1bffc50696c14487a5bf5db89f5f5c2e"
            ],
            "layout": "IPY_MODEL_2516bbf7fbe74bf0a98e491cd0a2d570"
          }
        },
        "caa3b37476f643cda5e6816acf269163": {
          "model_module": "@jupyter-widgets/base",
          "model_name": "LayoutModel",
          "model_module_version": "1.2.0",
          "state": {
            "_model_module": "@jupyter-widgets/base",
            "_model_module_version": "1.2.0",
            "_model_name": "LayoutModel",
            "_view_count": null,
            "_view_module": "@jupyter-widgets/base",
            "_view_module_version": "1.2.0",
            "_view_name": "LayoutView",
            "align_content": null,
            "align_items": null,
            "align_self": null,
            "border": null,
            "bottom": null,
            "display": null,
            "flex": null,
            "flex_flow": null,
            "grid_area": null,
            "grid_auto_columns": null,
            "grid_auto_flow": null,
            "grid_auto_rows": null,
            "grid_column": null,
            "grid_gap": null,
            "grid_row": null,
            "grid_template_areas": null,
            "grid_template_columns": null,
            "grid_template_rows": null,
            "height": null,
            "justify_content": null,
            "justify_items": null,
            "left": null,
            "margin": null,
            "max_height": null,
            "max_width": null,
            "min_height": null,
            "min_width": null,
            "object_fit": null,
            "object_position": null,
            "order": null,
            "overflow": null,
            "overflow_x": null,
            "overflow_y": null,
            "padding": null,
            "right": null,
            "top": null,
            "visibility": null,
            "width": null
          }
        },
        "5174393f566e4ce2aca70d0d1072dcf3": {
          "model_module": "@jupyter-widgets/base",
          "model_name": "LayoutModel",
          "model_module_version": "1.2.0",
          "state": {
            "_model_module": "@jupyter-widgets/base",
            "_model_module_version": "1.2.0",
            "_model_name": "LayoutModel",
            "_view_count": null,
            "_view_module": "@jupyter-widgets/base",
            "_view_module_version": "1.2.0",
            "_view_name": "LayoutView",
            "align_content": null,
            "align_items": null,
            "align_self": null,
            "border": null,
            "bottom": null,
            "display": null,
            "flex": null,
            "flex_flow": null,
            "grid_area": null,
            "grid_auto_columns": null,
            "grid_auto_flow": null,
            "grid_auto_rows": null,
            "grid_column": null,
            "grid_gap": null,
            "grid_row": null,
            "grid_template_areas": null,
            "grid_template_columns": null,
            "grid_template_rows": null,
            "height": null,
            "justify_content": null,
            "justify_items": null,
            "left": null,
            "margin": null,
            "max_height": null,
            "max_width": null,
            "min_height": null,
            "min_width": null,
            "object_fit": null,
            "object_position": null,
            "order": null,
            "overflow": null,
            "overflow_x": null,
            "overflow_y": null,
            "padding": null,
            "right": null,
            "top": null,
            "visibility": null,
            "width": "600px"
          }
        },
        "a802da3d27124080a65c3921481cb2ba": {
          "model_module": "@jupyter-widgets/controls",
          "model_name": "DescriptionStyleModel",
          "model_module_version": "1.5.0",
          "state": {
            "_model_module": "@jupyter-widgets/controls",
            "_model_module_version": "1.5.0",
            "_model_name": "DescriptionStyleModel",
            "_view_count": null,
            "_view_module": "@jupyter-widgets/base",
            "_view_module_version": "1.2.0",
            "_view_name": "StyleView",
            "description_width": ""
          }
        },
        "629a5c4bf9e941889b579e4247b8f119": {
          "model_module": "@jupyter-widgets/controls",
          "model_name": "DatePickerModel",
          "model_module_version": "1.5.0",
          "state": {
            "_dom_classes": [],
            "_model_module": "@jupyter-widgets/controls",
            "_model_module_version": "1.5.0",
            "_model_name": "DatePickerModel",
            "_view_count": null,
            "_view_module": "@jupyter-widgets/controls",
            "_view_module_version": "1.5.0",
            "_view_name": "DatePickerView",
            "description": "Start Date:",
            "description_tooltip": null,
            "disabled": false,
            "layout": "IPY_MODEL_9f0bea766b92412fab9897aa8e1f52dd",
            "style": "IPY_MODEL_670c0247193b4413b7fe45a2de838a82",
            "value": {
              "year": 2023,
              "month": 4,
              "date": 8
            }
          }
        },
        "6cb0a2d3c94e44cdac88f83f6391b927": {
          "model_module": "@jupyter-widgets/controls",
          "model_name": "IntSliderModel",
          "model_module_version": "1.5.0",
          "state": {
            "_dom_classes": [],
            "_model_module": "@jupyter-widgets/controls",
            "_model_module_version": "1.5.0",
            "_model_name": "IntSliderModel",
            "_view_count": null,
            "_view_module": "@jupyter-widgets/controls",
            "_view_module_version": "1.5.0",
            "_view_name": "IntSliderView",
            "continuous_update": false,
            "description": "# Days:",
            "description_tooltip": null,
            "disabled": false,
            "layout": "IPY_MODEL_03003c59d07e48c28ca00b4d5b1b08e6",
            "max": 16,
            "min": 1,
            "orientation": "horizontal",
            "readout": true,
            "readout_format": "d",
            "step": 1,
            "style": "IPY_MODEL_791ccfdb44dc40f389e8e6b031c0d230",
            "value": 1
          }
        },
        "20b72892c728485aafbaf08db43f6cd4": {
          "model_module": "@jupyter-widgets/base",
          "model_name": "LayoutModel",
          "model_module_version": "1.2.0",
          "state": {
            "_model_module": "@jupyter-widgets/base",
            "_model_module_version": "1.2.0",
            "_model_name": "LayoutModel",
            "_view_count": null,
            "_view_module": "@jupyter-widgets/base",
            "_view_module_version": "1.2.0",
            "_view_name": "LayoutView",
            "align_content": null,
            "align_items": null,
            "align_self": null,
            "border": null,
            "bottom": null,
            "display": null,
            "flex": null,
            "flex_flow": null,
            "grid_area": null,
            "grid_auto_columns": null,
            "grid_auto_flow": null,
            "grid_auto_rows": null,
            "grid_column": null,
            "grid_gap": null,
            "grid_row": null,
            "grid_template_areas": null,
            "grid_template_columns": null,
            "grid_template_rows": null,
            "height": null,
            "justify_content": null,
            "justify_items": null,
            "left": null,
            "margin": null,
            "max_height": null,
            "max_width": null,
            "min_height": null,
            "min_width": null,
            "object_fit": null,
            "object_position": null,
            "order": null,
            "overflow": null,
            "overflow_x": null,
            "overflow_y": null,
            "padding": null,
            "right": null,
            "top": null,
            "visibility": null,
            "width": null
          }
        },
        "4ad1a87475194554afe4520d4c25b7d1": {
          "model_module": "jupyter-leaflet",
          "model_name": "LeafletMapModel",
          "model_module_version": "^0.17",
          "state": {
            "_dom_classes": [],
            "_model_module": "jupyter-leaflet",
            "_model_module_version": "^0.17",
            "_model_name": "LeafletMapModel",
            "_view_count": null,
            "_view_module": "jupyter-leaflet",
            "_view_module_version": "^0.17",
            "_view_name": "LeafletMapView",
            "bottom": 180484,
            "bounce_at_zoom_limits": true,
            "box_zoom": true,
            "center": [
              48.895557,
              2.388747
            ],
            "close_popup_on_click": true,
            "controls": [
              "IPY_MODEL_cd974b39ae334b2bae03cb159a2c7195",
              "IPY_MODEL_c3e7232d9cb040ff8ce45b8e24604ac7",
              "IPY_MODEL_b3554c5296fa4862bca79825d5aa7094",
              "IPY_MODEL_c3af5ce603c1449ab12f4715f36885dc"
            ],
            "crs": {
              "name": "EPSG3857",
              "custom": false
            },
            "default_style": "IPY_MODEL_560c213856544b44aa7284f24028f6ea",
            "double_click_zoom": true,
            "dragging": true,
            "dragging_style": "IPY_MODEL_44d5318e4de94f91a9b95917514cae7b",
            "east": 2.7493286132812504,
            "fullscreen": false,
            "inertia": true,
            "inertia_deceleration": 3000,
            "inertia_max_speed": 1500,
            "interpolation": "bilinear",
            "keyboard": true,
            "keyboard_pan_offset": 80,
            "keyboard_zoom_offset": 1,
            "layers": [
              "IPY_MODEL_2b4f1edb0adf4d04baadae1b4e172dd9",
              "IPY_MODEL_6c3329f3cd7741c2a90b748237c61492",
              "IPY_MODEL_b1df0bcd513646079407b3156aa6babc"
            ],
            "layout": "IPY_MODEL_3ed3a8dcd21942b9896f4ef05fcac73d",
            "left": 265097,
            "max_zoom": null,
            "min_zoom": null,
            "modisdate": "2023-05-10",
            "north": 48.98562459864607,
            "options": [
              "bounce_at_zoom_limits",
              "box_zoom",
              "center",
              "close_popup_on_click",
              "double_click_zoom",
              "dragging",
              "fullscreen",
              "inertia",
              "inertia_deceleration",
              "inertia_max_speed",
              "interpolation",
              "keyboard",
              "keyboard_pan_offset",
              "keyboard_zoom_offset",
              "max_zoom",
              "min_zoom",
              "prefer_canvas",
              "scroll_wheel_zoom",
              "tap",
              "tap_tolerance",
              "touch_zoom",
              "world_copy_jump",
              "zoom",
              "zoom_animation_threshold",
              "zoom_delta",
              "zoom_snap"
            ],
            "panes": {},
            "prefer_canvas": false,
            "right": 266148,
            "scroll_wheel_zoom": false,
            "south": 48.80505453139158,
            "style": "IPY_MODEL_560c213856544b44aa7284f24028f6ea",
            "tap": true,
            "tap_tolerance": 15,
            "top": 180084,
            "touch_zoom": true,
            "west": 2.027664184570313,
            "window_url": "https://ohc69tz20hj-496ff2e9c6d22116-0-colab.googleusercontent.com/outputframe.html?vrz=colab-20230508-060136-RC00_530262619",
            "world_copy_jump": false,
            "zoom": 2,
            "zoom_animation_threshold": 4,
            "zoom_delta": 1,
            "zoom_snap": 1
          }
        },
        "1bffc50696c14487a5bf5db89f5f5c2e": {
          "model_module": "ipytree",
          "model_name": "TreeModel",
          "model_module_version": "^0.2",
          "state": {
            "_dom_classes": [],
            "_id": "#",
            "_model_module": "ipytree",
            "_model_module_version": "^0.2",
            "_model_name": "TreeModel",
            "_view_count": null,
            "_view_module": "ipytree",
            "_view_module_version": "^0.2",
            "_view_name": "TreeView",
            "animation": 200,
            "layout": "IPY_MODEL_0e7501a4d44d4d248aa0d5c29279d7df",
            "multiple_selection": true,
            "nodes": [
              "IPY_MODEL_9875e496c1b8463fa9c29b5c65959924"
            ],
            "selected_nodes": []
          }
        },
        "2516bbf7fbe74bf0a98e491cd0a2d570": {
          "model_module": "@jupyter-widgets/base",
          "model_name": "LayoutModel",
          "model_module_version": "1.2.0",
          "state": {
            "_model_module": "@jupyter-widgets/base",
            "_model_module_version": "1.2.0",
            "_model_name": "LayoutModel",
            "_view_count": null,
            "_view_module": "@jupyter-widgets/base",
            "_view_module_version": "1.2.0",
            "_view_name": "LayoutView",
            "align_content": null,
            "align_items": null,
            "align_self": null,
            "border": null,
            "bottom": null,
            "display": null,
            "flex": null,
            "flex_flow": null,
            "grid_area": null,
            "grid_auto_columns": null,
            "grid_auto_flow": null,
            "grid_auto_rows": null,
            "grid_column": null,
            "grid_gap": null,
            "grid_row": null,
            "grid_template_areas": null,
            "grid_template_columns": null,
            "grid_template_rows": null,
            "height": null,
            "justify_content": null,
            "justify_items": null,
            "left": null,
            "margin": null,
            "max_height": null,
            "max_width": null,
            "min_height": null,
            "min_width": null,
            "object_fit": null,
            "object_position": null,
            "order": null,
            "overflow": null,
            "overflow_x": null,
            "overflow_y": null,
            "padding": null,
            "right": null,
            "top": null,
            "visibility": null,
            "width": null
          }
        },
        "9f0bea766b92412fab9897aa8e1f52dd": {
          "model_module": "@jupyter-widgets/base",
          "model_name": "LayoutModel",
          "model_module_version": "1.2.0",
          "state": {
            "_model_module": "@jupyter-widgets/base",
            "_model_module_version": "1.2.0",
            "_model_name": "LayoutModel",
            "_view_count": null,
            "_view_module": "@jupyter-widgets/base",
            "_view_module_version": "1.2.0",
            "_view_name": "LayoutView",
            "align_content": null,
            "align_items": null,
            "align_self": null,
            "border": null,
            "bottom": null,
            "display": null,
            "flex": null,
            "flex_flow": null,
            "grid_area": null,
            "grid_auto_columns": null,
            "grid_auto_flow": null,
            "grid_auto_rows": null,
            "grid_column": null,
            "grid_gap": null,
            "grid_row": null,
            "grid_template_areas": null,
            "grid_template_columns": null,
            "grid_template_rows": null,
            "height": null,
            "justify_content": null,
            "justify_items": null,
            "left": null,
            "margin": null,
            "max_height": null,
            "max_width": null,
            "min_height": null,
            "min_width": null,
            "object_fit": null,
            "object_position": null,
            "order": null,
            "overflow": null,
            "overflow_x": null,
            "overflow_y": null,
            "padding": null,
            "right": null,
            "top": null,
            "visibility": null,
            "width": null
          }
        },
        "670c0247193b4413b7fe45a2de838a82": {
          "model_module": "@jupyter-widgets/controls",
          "model_name": "DescriptionStyleModel",
          "model_module_version": "1.5.0",
          "state": {
            "_model_module": "@jupyter-widgets/controls",
            "_model_module_version": "1.5.0",
            "_model_name": "DescriptionStyleModel",
            "_view_count": null,
            "_view_module": "@jupyter-widgets/base",
            "_view_module_version": "1.2.0",
            "_view_name": "StyleView",
            "description_width": ""
          }
        },
        "03003c59d07e48c28ca00b4d5b1b08e6": {
          "model_module": "@jupyter-widgets/base",
          "model_name": "LayoutModel",
          "model_module_version": "1.2.0",
          "state": {
            "_model_module": "@jupyter-widgets/base",
            "_model_module_version": "1.2.0",
            "_model_name": "LayoutModel",
            "_view_count": null,
            "_view_module": "@jupyter-widgets/base",
            "_view_module_version": "1.2.0",
            "_view_name": "LayoutView",
            "align_content": null,
            "align_items": null,
            "align_self": null,
            "border": null,
            "bottom": null,
            "display": null,
            "flex": null,
            "flex_flow": null,
            "grid_area": null,
            "grid_auto_columns": null,
            "grid_auto_flow": null,
            "grid_auto_rows": null,
            "grid_column": null,
            "grid_gap": null,
            "grid_row": null,
            "grid_template_areas": null,
            "grid_template_columns": null,
            "grid_template_rows": null,
            "height": null,
            "justify_content": null,
            "justify_items": null,
            "left": null,
            "margin": null,
            "max_height": null,
            "max_width": null,
            "min_height": null,
            "min_width": null,
            "object_fit": null,
            "object_position": null,
            "order": null,
            "overflow": null,
            "overflow_x": null,
            "overflow_y": null,
            "padding": null,
            "right": null,
            "top": null,
            "visibility": null,
            "width": null
          }
        },
        "791ccfdb44dc40f389e8e6b031c0d230": {
          "model_module": "@jupyter-widgets/controls",
          "model_name": "SliderStyleModel",
          "model_module_version": "1.5.0",
          "state": {
            "_model_module": "@jupyter-widgets/controls",
            "_model_module_version": "1.5.0",
            "_model_name": "SliderStyleModel",
            "_view_count": null,
            "_view_module": "@jupyter-widgets/base",
            "_view_module_version": "1.2.0",
            "_view_name": "StyleView",
            "description_width": "",
            "handle_color": null
          }
        },
        "cd974b39ae334b2bae03cb159a2c7195": {
          "model_module": "jupyter-leaflet",
          "model_name": "LeafletZoomControlModel",
          "model_module_version": "^0.17",
          "state": {
            "_model_module": "jupyter-leaflet",
            "_model_module_version": "^0.17",
            "_model_name": "LeafletZoomControlModel",
            "_view_count": null,
            "_view_module": "jupyter-leaflet",
            "_view_module_version": "^0.17",
            "_view_name": "LeafletZoomControlView",
            "options": [
              "position",
              "zoom_in_text",
              "zoom_in_title",
              "zoom_out_text",
              "zoom_out_title"
            ],
            "position": "topleft",
            "zoom_in_text": "+",
            "zoom_in_title": "Zoom in",
            "zoom_out_text": "-",
            "zoom_out_title": "Zoom out"
          }
        },
        "c3e7232d9cb040ff8ce45b8e24604ac7": {
          "model_module": "jupyter-leaflet",
          "model_name": "LeafletAttributionControlModel",
          "model_module_version": "^0.17",
          "state": {
            "_model_module": "jupyter-leaflet",
            "_model_module_version": "^0.17",
            "_model_name": "LeafletAttributionControlModel",
            "_view_count": null,
            "_view_module": "jupyter-leaflet",
            "_view_module_version": "^0.17",
            "_view_name": "LeafletAttributionControlView",
            "options": [
              "position",
              "prefix"
            ],
            "position": "bottomright",
            "prefix": "ipyleaflet"
          }
        },
        "b3554c5296fa4862bca79825d5aa7094": {
          "model_module": "jupyter-leaflet",
          "model_name": "LeafletLayersControlModel",
          "model_module_version": "^0.17",
          "state": {
            "_model_module": "jupyter-leaflet",
            "_model_module_version": "^0.17",
            "_model_name": "LeafletLayersControlModel",
            "_view_count": null,
            "_view_module": "jupyter-leaflet",
            "_view_module_version": "^0.17",
            "_view_name": "LeafletLayersControlView",
            "options": [
              "position"
            ],
            "position": "topright"
          }
        },
        "c3af5ce603c1449ab12f4715f36885dc": {
          "model_module": "jupyter-leaflet",
          "model_name": "LeafletWidgetControlModel",
          "model_module_version": "^0.17",
          "state": {
            "_model_module": "jupyter-leaflet",
            "_model_module_version": "^0.17",
            "_model_name": "LeafletWidgetControlModel",
            "_view_count": null,
            "_view_module": "jupyter-leaflet",
            "_view_module_version": "^0.17",
            "_view_name": "LeafletWidgetControlView",
            "max_height": null,
            "max_width": null,
            "min_height": null,
            "min_width": null,
            "options": [
              "position",
              "transparent_bg"
            ],
            "position": "topright",
            "transparent_bg": false,
            "widget": "IPY_MODEL_c7d185cdce88477ebd4fe40ac0c31045"
          }
        },
        "560c213856544b44aa7284f24028f6ea": {
          "model_module": "jupyter-leaflet",
          "model_name": "LeafletMapStyleModel",
          "model_module_version": "^0.17",
          "state": {
            "_model_module": "jupyter-leaflet",
            "_model_module_version": "^0.17",
            "_model_name": "LeafletMapStyleModel",
            "_view_count": null,
            "_view_module": "@jupyter-widgets/base",
            "_view_module_version": "1.2.0",
            "_view_name": "StyleView",
            "cursor": "crosshair"
          }
        },
        "44d5318e4de94f91a9b95917514cae7b": {
          "model_module": "jupyter-leaflet",
          "model_name": "LeafletMapStyleModel",
          "model_module_version": "^0.17",
          "state": {
            "_model_module": "jupyter-leaflet",
            "_model_module_version": "^0.17",
            "_model_name": "LeafletMapStyleModel",
            "_view_count": null,
            "_view_module": "@jupyter-widgets/base",
            "_view_module_version": "1.2.0",
            "_view_name": "StyleView",
            "cursor": "move"
          }
        },
        "2b4f1edb0adf4d04baadae1b4e172dd9": {
          "model_module": "jupyter-leaflet",
          "model_name": "LeafletTileLayerModel",
          "model_module_version": "^0.17",
          "state": {
            "_model_module": "jupyter-leaflet",
            "_model_module_version": "^0.17",
            "_model_name": "LeafletTileLayerModel",
            "_view_count": null,
            "_view_module": "jupyter-leaflet",
            "_view_module_version": "^0.17",
            "_view_name": "LeafletTileLayerView",
            "attribution": "Tiles &copy; Esri &mdash; Source: Esri, i-cubed, USDA, USGS, AEX, GeoEye, Getmapping, Aerogrid, IGN, IGP, UPR-EGP, and the GIS User Community",
            "base": true,
            "bottom": true,
            "bounds": null,
            "detect_retina": false,
            "loading": false,
            "max_native_zoom": null,
            "max_zoom": 18,
            "min_native_zoom": null,
            "min_zoom": 1,
            "name": "Satellite Layer",
            "no_wrap": false,
            "opacity": 1,
            "options": [
              "attribution",
              "bounds",
              "detect_retina",
              "max_native_zoom",
              "max_zoom",
              "min_native_zoom",
              "min_zoom",
              "no_wrap",
              "tile_size",
              "tms",
              "zoom_offset"
            ],
            "pane": "",
            "popup": null,
            "popup_max_height": null,
            "popup_max_width": 300,
            "popup_min_width": 50,
            "show_loading": false,
            "subitems": [],
            "tile_size": 256,
            "tms": false,
            "url": "https://server.arcgisonline.com/ArcGIS/rest/services/World_Imagery/MapServer/tile/{z}/{y}/{x}",
            "visible": true,
            "zoom_offset": 0
          }
        },
        "6c3329f3cd7741c2a90b748237c61492": {
          "model_module": "jupyter-leaflet",
          "model_name": "LeafletTileLayerModel",
          "model_module_version": "^0.17",
          "state": {
            "_model_module": "jupyter-leaflet",
            "_model_module_version": "^0.17",
            "_model_name": "LeafletTileLayerModel",
            "_view_count": null,
            "_view_module": "jupyter-leaflet",
            "_view_module_version": "^0.17",
            "_view_name": "LeafletTileLayerView",
            "attribution": "&copy; <a href=\"https://www.openstreetmap.org/copyright\">OpenStreetMap</a> contributors &copy; <a href=\"https://carto.com/attributions\">CARTO</a>",
            "base": true,
            "bottom": true,
            "bounds": null,
            "detect_retina": false,
            "loading": false,
            "max_native_zoom": null,
            "max_zoom": 20,
            "min_native_zoom": null,
            "min_zoom": 1,
            "name": "Positron Layer",
            "no_wrap": false,
            "opacity": 1,
            "options": [
              "attribution",
              "bounds",
              "detect_retina",
              "max_native_zoom",
              "max_zoom",
              "min_native_zoom",
              "min_zoom",
              "no_wrap",
              "tile_size",
              "tms",
              "zoom_offset"
            ],
            "pane": "",
            "popup": null,
            "popup_max_height": null,
            "popup_max_width": 300,
            "popup_min_width": 50,
            "show_loading": false,
            "subitems": [],
            "tile_size": 256,
            "tms": false,
            "url": "https://a.basemaps.cartocdn.com/light_all/{z}/{x}/{y}.png",
            "visible": true,
            "zoom_offset": 0
          }
        },
        "3ed3a8dcd21942b9896f4ef05fcac73d": {
          "model_module": "@jupyter-widgets/base",
          "model_name": "LayoutModel",
          "model_module_version": "1.2.0",
          "state": {
            "_model_module": "@jupyter-widgets/base",
            "_model_module_version": "1.2.0",
            "_model_name": "LayoutModel",
            "_view_count": null,
            "_view_module": "@jupyter-widgets/base",
            "_view_module_version": "1.2.0",
            "_view_name": "LayoutView",
            "align_content": null,
            "align_items": null,
            "align_self": null,
            "border": null,
            "bottom": null,
            "display": null,
            "flex": null,
            "flex_flow": null,
            "grid_area": null,
            "grid_auto_columns": null,
            "grid_auto_flow": null,
            "grid_auto_rows": null,
            "grid_column": null,
            "grid_gap": null,
            "grid_row": null,
            "grid_template_areas": null,
            "grid_template_columns": null,
            "grid_template_rows": null,
            "height": null,
            "justify_content": null,
            "justify_items": null,
            "left": null,
            "margin": null,
            "max_height": null,
            "max_width": null,
            "min_height": null,
            "min_width": null,
            "object_fit": null,
            "object_position": null,
            "order": null,
            "overflow": null,
            "overflow_x": null,
            "overflow_y": null,
            "padding": null,
            "right": null,
            "top": null,
            "visibility": null,
            "width": "100%"
          }
        },
        "7e9cecc668854eec91d9b3ec7198c411": {
          "model_module": "jupyter-leaflet",
          "model_name": "LeafletMapStyleModel",
          "model_module_version": "^0.17",
          "state": {
            "_model_module": "jupyter-leaflet",
            "_model_module_version": "^0.17",
            "_model_name": "LeafletMapStyleModel",
            "_view_count": null,
            "_view_module": "@jupyter-widgets/base",
            "_view_module_version": "1.2.0",
            "_view_name": "StyleView",
            "cursor": "grab"
          }
        },
        "c7d185cdce88477ebd4fe40ac0c31045": {
          "model_module": "@jupyter-widgets/controls",
          "model_name": "ButtonModel",
          "model_module_version": "1.5.0",
          "state": {
            "_dom_classes": [],
            "_model_module": "@jupyter-widgets/controls",
            "_model_module_version": "1.5.0",
            "_model_name": "ButtonModel",
            "_view_count": null,
            "_view_module": "@jupyter-widgets/controls",
            "_view_module_version": "1.5.0",
            "_view_name": "ButtonView",
            "button_style": "",
            "description": "",
            "disabled": false,
            "icon": "info-circle 2x fw inverse",
            "layout": "IPY_MODEL_362004953e124017b6677323af14a3ce",
            "style": "IPY_MODEL_8fd494f5d6314e10809411e36318fb7f",
            "tooltip": ""
          }
        },
        "0e7501a4d44d4d248aa0d5c29279d7df": {
          "model_module": "@jupyter-widgets/base",
          "model_name": "LayoutModel",
          "model_module_version": "1.2.0",
          "state": {
            "_model_module": "@jupyter-widgets/base",
            "_model_module_version": "1.2.0",
            "_model_name": "LayoutModel",
            "_view_count": null,
            "_view_module": "@jupyter-widgets/base",
            "_view_module_version": "1.2.0",
            "_view_name": "LayoutView",
            "align_content": null,
            "align_items": null,
            "align_self": null,
            "border": null,
            "bottom": null,
            "display": null,
            "flex": null,
            "flex_flow": null,
            "grid_area": null,
            "grid_auto_columns": null,
            "grid_auto_flow": null,
            "grid_auto_rows": null,
            "grid_column": null,
            "grid_gap": null,
            "grid_row": null,
            "grid_template_areas": null,
            "grid_template_columns": null,
            "grid_template_rows": null,
            "height": null,
            "justify_content": null,
            "justify_items": null,
            "left": null,
            "margin": null,
            "max_height": "400px",
            "max_width": null,
            "min_height": null,
            "min_width": null,
            "object_fit": null,
            "object_position": null,
            "order": null,
            "overflow": "scroll",
            "overflow_x": null,
            "overflow_y": null,
            "padding": null,
            "right": null,
            "top": null,
            "visibility": null,
            "width": "0%"
          }
        },
        "9875e496c1b8463fa9c29b5c65959924": {
          "model_module": "ipytree",
          "model_name": "NodeModel",
          "model_module_version": "^0.2",
          "state": {
            "_id": "fc0580ff-c524-4cc8-907f-ca4607647a76",
            "_model_module": "ipytree",
            "_model_module_version": "^0.2",
            "_model_name": "NodeModel",
            "_view_count": null,
            "_view_module": "ipytree",
            "_view_module_version": "^0.2",
            "_view_name": "NodeView",
            "close_icon": "minus",
            "close_icon_style": "default",
            "disabled": false,
            "icon": "folder",
            "icon_image": "",
            "icon_style": "default",
            "name": "Click on the map to inspect the layers.",
            "nodes": [],
            "open_icon": "plus",
            "open_icon_style": "default",
            "opened": true,
            "selected": false,
            "show_icon": true
          }
        },
        "362004953e124017b6677323af14a3ce": {
          "model_module": "@jupyter-widgets/base",
          "model_name": "LayoutModel",
          "model_module_version": "1.2.0",
          "state": {
            "_model_module": "@jupyter-widgets/base",
            "_model_module_version": "1.2.0",
            "_model_name": "LayoutModel",
            "_view_count": null,
            "_view_module": "@jupyter-widgets/base",
            "_view_module_version": "1.2.0",
            "_view_name": "LayoutView",
            "align_content": null,
            "align_items": null,
            "align_self": null,
            "border": null,
            "bottom": null,
            "display": null,
            "flex": null,
            "flex_flow": null,
            "grid_area": null,
            "grid_auto_columns": null,
            "grid_auto_flow": null,
            "grid_auto_rows": null,
            "grid_column": null,
            "grid_gap": null,
            "grid_row": null,
            "grid_template_areas": null,
            "grid_template_columns": null,
            "grid_template_rows": null,
            "height": "45px",
            "justify_content": null,
            "justify_items": null,
            "left": null,
            "margin": null,
            "max_height": null,
            "max_width": null,
            "min_height": null,
            "min_width": null,
            "object_fit": null,
            "object_position": null,
            "order": null,
            "overflow": null,
            "overflow_x": null,
            "overflow_y": null,
            "padding": "0px",
            "right": null,
            "top": null,
            "visibility": null,
            "width": "45px"
          }
        },
        "8fd494f5d6314e10809411e36318fb7f": {
          "model_module": "@jupyter-widgets/controls",
          "model_name": "ButtonStyleModel",
          "model_module_version": "1.5.0",
          "state": {
            "_model_module": "@jupyter-widgets/controls",
            "_model_module_version": "1.5.0",
            "_model_name": "ButtonStyleModel",
            "_view_count": null,
            "_view_module": "@jupyter-widgets/base",
            "_view_module_version": "1.2.0",
            "_view_name": "StyleView",
            "button_color": null,
            "font_weight": ""
          }
        },
        "59c5e6cc6a6a4a2da1a33173c886ab21": {
          "model_module": "jupyter-leaflet",
          "model_name": "LeafletTileLayerModel",
          "model_module_version": "^0.17",
          "state": {
            "_model_module": "jupyter-leaflet",
            "_model_module_version": "^0.17",
            "_model_name": "LeafletTileLayerModel",
            "_view_count": null,
            "_view_module": "jupyter-leaflet",
            "_view_module_version": "^0.17",
            "_view_name": "LeafletTileLayerView",
            "attribution": null,
            "base": false,
            "bottom": true,
            "bounds": null,
            "detect_retina": false,
            "loading": true,
            "max_native_zoom": null,
            "max_zoom": 18,
            "min_native_zoom": null,
            "min_zoom": 0,
            "name": "Sentinel-2",
            "no_wrap": false,
            "opacity": 1,
            "options": [
              "attribution",
              "bounds",
              "detect_retina",
              "max_native_zoom",
              "max_zoom",
              "min_native_zoom",
              "min_zoom",
              "no_wrap",
              "tile_size",
              "tms",
              "zoom_offset"
            ],
            "pane": "",
            "popup": null,
            "popup_max_height": null,
            "popup_max_width": 300,
            "popup_min_width": 50,
            "show_loading": false,
            "subitems": [],
            "tile_size": 256,
            "tms": false,
            "url": "https://earthengine.googleapis.com/v1alpha/projects/tylerickson-misc/maps/8e663b12b5fb247e8aedc4d312eb0757-4601873254c44a3e584e0af945d2a844/tiles/{z}/{x}/{y}",
            "visible": true,
            "zoom_offset": 0
          }
        },
        "e89a940f06aa47a6a6ddb4721e301fcc": {
          "model_module": "jupyter-leaflet",
          "model_name": "LeafletTileLayerModel",
          "model_module_version": "^0.17",
          "state": {
            "_model_module": "jupyter-leaflet",
            "_model_module_version": "^0.17",
            "_model_name": "LeafletTileLayerModel",
            "_view_count": null,
            "_view_module": "jupyter-leaflet",
            "_view_module_version": "^0.17",
            "_view_name": "LeafletTileLayerView",
            "attribution": null,
            "base": false,
            "bottom": true,
            "bounds": null,
            "detect_retina": false,
            "loading": true,
            "max_native_zoom": null,
            "max_zoom": 18,
            "min_native_zoom": null,
            "min_zoom": 0,
            "name": "MOD14A1.061",
            "no_wrap": false,
            "opacity": 1,
            "options": [
              "attribution",
              "bounds",
              "detect_retina",
              "max_native_zoom",
              "max_zoom",
              "min_native_zoom",
              "min_zoom",
              "no_wrap",
              "tile_size",
              "tms",
              "zoom_offset"
            ],
            "pane": "",
            "popup": null,
            "popup_max_height": null,
            "popup_max_width": 300,
            "popup_min_width": 50,
            "show_loading": false,
            "subitems": [],
            "tile_size": 256,
            "tms": false,
            "url": "https://earthengine.googleapis.com/v1alpha/projects/tylerickson-misc/maps/6fbbff58b37f70ce459e38c2c503b01c-99fd7dab9a9524a03569aed8607a76d6/tiles/{z}/{x}/{y}",
            "visible": true,
            "zoom_offset": 0
          }
        },
        "60a8346a0c8140419fb9b766bd039dd4": {
          "model_module": "jupyter-leaflet",
          "model_name": "LeafletTileLayerModel",
          "model_module_version": "^0.17",
          "state": {
            "_model_module": "jupyter-leaflet",
            "_model_module_version": "^0.17",
            "_model_name": "LeafletTileLayerModel",
            "_view_count": null,
            "_view_module": "jupyter-leaflet",
            "_view_module_version": "^0.17",
            "_view_name": "LeafletTileLayerView",
            "attribution": null,
            "base": false,
            "bottom": true,
            "bounds": null,
            "detect_retina": false,
            "loading": true,
            "max_native_zoom": null,
            "max_zoom": 18,
            "min_native_zoom": null,
            "min_zoom": 0,
            "name": "MOD14A1.061",
            "no_wrap": false,
            "opacity": 1,
            "options": [
              "attribution",
              "bounds",
              "detect_retina",
              "max_native_zoom",
              "max_zoom",
              "min_native_zoom",
              "min_zoom",
              "no_wrap",
              "tile_size",
              "tms",
              "zoom_offset"
            ],
            "pane": "",
            "popup": null,
            "popup_max_height": null,
            "popup_max_width": 300,
            "popup_min_width": 50,
            "show_loading": false,
            "subitems": [],
            "tile_size": 256,
            "tms": false,
            "url": "https://earthengine.googleapis.com/v1alpha/projects/tylerickson-misc/maps/4dc108186857a239d370138b0ce446d3-219405d3413eaa8ecf675ea2ac975d99/tiles/{z}/{x}/{y}",
            "visible": true,
            "zoom_offset": 0
          }
        },
        "573c9fca220e4893ac60139eaa2a53a0": {
          "model_module": "jupyter-leaflet",
          "model_name": "LeafletTileLayerModel",
          "model_module_version": "^0.17",
          "state": {
            "_model_module": "jupyter-leaflet",
            "_model_module_version": "^0.17",
            "_model_name": "LeafletTileLayerModel",
            "_view_count": null,
            "_view_module": "jupyter-leaflet",
            "_view_module_version": "^0.17",
            "_view_name": "LeafletTileLayerView",
            "attribution": null,
            "base": false,
            "bottom": true,
            "bounds": null,
            "detect_retina": false,
            "loading": true,
            "max_native_zoom": null,
            "max_zoom": 18,
            "min_native_zoom": null,
            "min_zoom": 0,
            "name": "NEX-GDDP tas",
            "no_wrap": false,
            "opacity": 1,
            "options": [
              "attribution",
              "bounds",
              "detect_retina",
              "max_native_zoom",
              "max_zoom",
              "min_native_zoom",
              "min_zoom",
              "no_wrap",
              "tile_size",
              "tms",
              "zoom_offset"
            ],
            "pane": "",
            "popup": null,
            "popup_max_height": null,
            "popup_max_width": 300,
            "popup_min_width": 50,
            "show_loading": false,
            "subitems": [],
            "tile_size": 256,
            "tms": false,
            "url": "https://earthengine.googleapis.com/v1alpha/projects/tylerickson-misc/maps/8a3d72c497c3bddb67f328a6b2e2853f-6d5428c3d91dc653b892dbe08e85998c/tiles/{z}/{x}/{y}",
            "visible": true,
            "zoom_offset": 0
          }
        },
        "32700fe9d9f64968aae39d91c34dda87": {
          "model_module": "jupyter-leaflet",
          "model_name": "LeafletTileLayerModel",
          "model_module_version": "^0.17",
          "state": {
            "_model_module": "jupyter-leaflet",
            "_model_module_version": "^0.17",
            "_model_name": "LeafletTileLayerModel",
            "_view_count": null,
            "_view_module": "jupyter-leaflet",
            "_view_module_version": "^0.17",
            "_view_name": "LeafletTileLayerView",
            "attribution": null,
            "base": false,
            "bottom": true,
            "bounds": null,
            "detect_retina": false,
            "loading": true,
            "max_native_zoom": null,
            "max_zoom": 18,
            "min_native_zoom": null,
            "min_zoom": 0,
            "name": "NEX-GDDP tas",
            "no_wrap": false,
            "opacity": 1,
            "options": [
              "attribution",
              "bounds",
              "detect_retina",
              "max_native_zoom",
              "max_zoom",
              "min_native_zoom",
              "min_zoom",
              "no_wrap",
              "tile_size",
              "tms",
              "zoom_offset"
            ],
            "pane": "",
            "popup": null,
            "popup_max_height": null,
            "popup_max_width": 300,
            "popup_min_width": 50,
            "show_loading": false,
            "subitems": [],
            "tile_size": 256,
            "tms": false,
            "url": "https://earthengine.googleapis.com/v1alpha/projects/tylerickson-misc/maps/000786cea929292d4d2406d0674193e5-3acbb6eec1f089fde541f1e4b96b2dfa/tiles/{z}/{x}/{y}",
            "visible": true,
            "zoom_offset": 0
          }
        },
        "b1df0bcd513646079407b3156aa6babc": {
          "model_module": "jupyter-leaflet",
          "model_name": "LeafletTileLayerModel",
          "model_module_version": "^0.17",
          "state": {
            "_model_module": "jupyter-leaflet",
            "_model_module_version": "^0.17",
            "_model_name": "LeafletTileLayerModel",
            "_view_count": null,
            "_view_module": "jupyter-leaflet",
            "_view_module_version": "^0.17",
            "_view_name": "LeafletTileLayerView",
            "attribution": null,
            "base": false,
            "bottom": true,
            "bounds": null,
            "detect_retina": false,
            "loading": true,
            "max_native_zoom": null,
            "max_zoom": 18,
            "min_native_zoom": null,
            "min_zoom": 0,
            "name": "NEX-GDDP tas",
            "no_wrap": false,
            "opacity": 1,
            "options": [
              "attribution",
              "bounds",
              "detect_retina",
              "max_native_zoom",
              "max_zoom",
              "min_native_zoom",
              "min_zoom",
              "no_wrap",
              "tile_size",
              "tms",
              "zoom_offset"
            ],
            "pane": "",
            "popup": null,
            "popup_max_height": null,
            "popup_max_width": 300,
            "popup_min_width": 50,
            "show_loading": false,
            "subitems": [],
            "tile_size": 256,
            "tms": false,
            "url": "https://earthengine.googleapis.com/v1alpha/projects/tylerickson-misc/maps/cafdb39a4c9be2ae230d631e0ed41b19-b82e2fc1ac394b0f7258ce73a8e1c453/tiles/{z}/{x}/{y}",
            "visible": true,
            "zoom_offset": 0
          }
        },
        "5aa8678ebbf44f94902b273c975e2b5c": {
          "model_module": "jupyter-leaflet",
          "model_name": "LeafletTileLayerModel",
          "model_module_version": "^0.17",
          "state": {
            "_model_module": "jupyter-leaflet",
            "_model_module_version": "^0.17",
            "_model_name": "LeafletTileLayerModel",
            "_view_count": null,
            "_view_module": "jupyter-leaflet",
            "_view_module_version": "^0.17",
            "_view_name": "LeafletTileLayerView",
            "attribution": null,
            "base": false,
            "bottom": true,
            "bounds": null,
            "detect_retina": false,
            "loading": true,
            "max_native_zoom": null,
            "max_zoom": 18,
            "min_native_zoom": null,
            "min_zoom": 0,
            "name": "Sentinel-2",
            "no_wrap": false,
            "opacity": 1,
            "options": [
              "attribution",
              "bounds",
              "detect_retina",
              "max_native_zoom",
              "max_zoom",
              "min_native_zoom",
              "min_zoom",
              "no_wrap",
              "tile_size",
              "tms",
              "zoom_offset"
            ],
            "pane": "",
            "popup": null,
            "popup_max_height": null,
            "popup_max_width": 300,
            "popup_min_width": 50,
            "show_loading": false,
            "subitems": [],
            "tile_size": 256,
            "tms": false,
            "url": "https://earthengine.googleapis.com/v1alpha/projects/tylerickson-misc/maps/45fa58524ac779c88343cd1724cf3d6b-8e9a4573c74887d68d1b11697e5fdaf5/tiles/{z}/{x}/{y}",
            "visible": true,
            "zoom_offset": 0
          }
        },
        "c93deeb6da0e45218dde5fd70d69c970": {
          "model_module": "jupyter-leaflet",
          "model_name": "LeafletTileLayerModel",
          "model_module_version": "^0.17",
          "state": {
            "_model_module": "jupyter-leaflet",
            "_model_module_version": "^0.17",
            "_model_name": "LeafletTileLayerModel",
            "_view_count": null,
            "_view_module": "jupyter-leaflet",
            "_view_module_version": "^0.17",
            "_view_name": "LeafletTileLayerView",
            "attribution": null,
            "base": false,
            "bottom": true,
            "bounds": null,
            "detect_retina": false,
            "loading": true,
            "max_native_zoom": null,
            "max_zoom": 18,
            "min_native_zoom": null,
            "min_zoom": 0,
            "name": "Sentinel-2",
            "no_wrap": false,
            "opacity": 1,
            "options": [
              "attribution",
              "bounds",
              "detect_retina",
              "max_native_zoom",
              "max_zoom",
              "min_native_zoom",
              "min_zoom",
              "no_wrap",
              "tile_size",
              "tms",
              "zoom_offset"
            ],
            "pane": "",
            "popup": null,
            "popup_max_height": null,
            "popup_max_width": 300,
            "popup_min_width": 50,
            "show_loading": false,
            "subitems": [],
            "tile_size": 256,
            "tms": false,
            "url": "https://earthengine.googleapis.com/v1alpha/projects/tylerickson-misc/maps/567b92c1263732520c672a948fab5c72-186167150ed8c3002733af0872a2914f/tiles/{z}/{x}/{y}",
            "visible": true,
            "zoom_offset": 0
          }
        },
        "7b64efc7d5de4d6a9442f335def88abc": {
          "model_module": "jupyter-leaflet",
          "model_name": "LeafletTileLayerModel",
          "model_module_version": "^0.17",
          "state": {
            "_model_module": "jupyter-leaflet",
            "_model_module_version": "^0.17",
            "_model_name": "LeafletTileLayerModel",
            "_view_count": null,
            "_view_module": "jupyter-leaflet",
            "_view_module_version": "^0.17",
            "_view_name": "LeafletTileLayerView",
            "attribution": null,
            "base": false,
            "bottom": true,
            "bounds": null,
            "detect_retina": false,
            "loading": false,
            "max_native_zoom": null,
            "max_zoom": 18,
            "min_native_zoom": null,
            "min_zoom": 0,
            "name": "Sentinel-2",
            "no_wrap": false,
            "opacity": 1,
            "options": [
              "attribution",
              "bounds",
              "detect_retina",
              "max_native_zoom",
              "max_zoom",
              "min_native_zoom",
              "min_zoom",
              "no_wrap",
              "tile_size",
              "tms",
              "zoom_offset"
            ],
            "pane": "",
            "popup": null,
            "popup_max_height": null,
            "popup_max_width": 300,
            "popup_min_width": 50,
            "show_loading": false,
            "subitems": [],
            "tile_size": 256,
            "tms": false,
            "url": "https://earthengine.googleapis.com/v1alpha/projects/tylerickson-misc/maps/608cb0643ff040654f7ef67e74ac7725-3e48eeb41e8323556dab3cad8635370d/tiles/{z}/{x}/{y}",
            "visible": true,
            "zoom_offset": 0
          }
        }
      }
    }
  },
  "cells": [
    {
      "cell_type": "markdown",
      "metadata": {
        "id": "view-in-github",
        "colab_type": "text"
      },
      "source": [
        "<a href=\"https://colab.research.google.com/github/tylere/JupyterCon-2023/blob/main/JupyterCon_2023_Poster.ipynb\" target=\"_parent\"><img src=\"https://colab.research.google.com/assets/colab-badge.svg\" alt=\"Open In Colab\"/></a>"
      ]
    },
    {
      "cell_type": "markdown",
      "source": [
        "# Overview\n",
        "\n",
        "The purpose of this notebook is to demonstrate display and inspection of satellite imagery."
      ],
      "metadata": {
        "id": "qjBd4UXLauhT"
      }
    },
    {
      "cell_type": "markdown",
      "source": [
        "# Setup"
      ],
      "metadata": {
        "id": "T7RKRGp2YIXc"
      }
    },
    {
      "cell_type": "markdown",
      "source": [
        "Colab does not contain the [google/earthengine-jupyter](https://github.com/google/earthengine-jupyter) package, so run a shell command to install it."
      ],
      "metadata": {
        "id": "wDoflDgsgaG4"
      }
    },
    {
      "cell_type": "code",
      "source": [
        "!pip install -q git+https://github.com/google/earthengine-jupyter.git@704c5f31a7d2de855e90357320d94425a7b6a791"
      ],
      "metadata": {
        "colab": {
          "base_uri": "https://localhost:8080/"
        },
        "id": "wX6wRaCSdh_r",
        "outputId": "1ba117c2-44de-4903-d7a7-28438d38059b"
      },
      "execution_count": 1,
      "outputs": [
        {
          "output_type": "stream",
          "name": "stdout",
          "text": [
            "  Preparing metadata (setup.py) ... \u001b[?25l\u001b[?25hdone\n"
          ]
        }
      ]
    },
    {
      "cell_type": "markdown",
      "source": [
        "Import packages used in this example."
      ],
      "metadata": {
        "id": "1KC7kfK2vWxa"
      }
    },
    {
      "cell_type": "code",
      "source": [
        "import datetime  # for date object manipulation\n",
        "import ee  # the Earth Engine Python client library\n",
        "import google  # for authentication to Google services\n",
        "import ipywidgets as widgets  # interactive widgets (standard)\n",
        "import ipyleaflet  # interactive mapping widget\n",
        "from ee_jupyter.layout import MapWithInspector "
      ],
      "metadata": {
        "id": "B-Ar8-WjYK3c"
      },
      "execution_count": 2,
      "outputs": []
    },
    {
      "cell_type": "markdown",
      "source": [
        "Specify the name of a [Google Cloud Project](https://console.cloud.google.com/) that will be used for data requests to Earth Engine. This project needs to have the [Google Earth Engine API](https://console.cloud.google.com/apis/api/earthengine.googleapis.com/) enabled. "
      ],
      "metadata": {
        "id": "Jopi7YtQZfXI"
      }
    },
    {
      "cell_type": "code",
      "source": [
        "COLAB_AUTH_FLOW_CLOUD_PROJECT_FOR_API_CALLS = 'tylerickson-misc'"
      ],
      "metadata": {
        "id": "x_ATBMZGYTmL"
      },
      "execution_count": 3,
      "outputs": []
    },
    {
      "cell_type": "markdown",
      "source": [
        "Authenticate access to Earth Engine, using the Colab authentication workflow."
      ],
      "metadata": {
        "id": "EQdq7jgzafjw"
      }
    },
    {
      "cell_type": "code",
      "source": [
        "# Authenticate to populate Application Default Credentials in the Colab VM.\n",
        "google.colab.auth.authenticate_user()\n",
        "# Create credentials needed for accessing Earth Engine.\n",
        "credentials, auth_project_id = google.auth.default()\n",
        "# Initialize Earth Engine.\n",
        "ee.Initialize(credentials, project=COLAB_AUTH_FLOW_CLOUD_PROJECT_FOR_API_CALLS)\n",
        "print('\\N{check mark} Successfully initialized!')"
      ],
      "metadata": {
        "colab": {
          "base_uri": "https://localhost:8080/"
        },
        "id": "aa43o2tMYYne",
        "outputId": "99763dd8-4bb0-4590-8ab6-374e7a2717ee"
      },
      "execution_count": 4,
      "outputs": [
        {
          "output_type": "stream",
          "name": "stdout",
          "text": [
            "✓ Successfully initialized!\n"
          ]
        }
      ]
    },
    {
      "cell_type": "markdown",
      "source": [
        "# Analysis: Inspection of Earth Data\n",
        "\n",
        "This section demonstrates how to display Earth data on an interactive map."
      ],
      "metadata": {
        "id": "8GpQFZy9eyKk"
      }
    },
    {
      "cell_type": "markdown",
      "source": [
        "First, define a set of datasets that will be made available for visualization. Additional datasets can be found in the [Earth Engine Data Catalog](https://developers.google.com/earth-engine/datasets)."
      ],
      "metadata": {
        "id": "CXmKvfVyzCbC"
      }
    },
    {
      "cell_type": "code",
      "source": [
        "datasets = {\n",
        "    'Sentinel-2': {\n",
        "        'desc': 'Optical imagery: Sentinel-2 TOA, 2015-present',\n",
        "        'base_collection': \"COPERNICUS/S2_HARMONIZED\",\n",
        "        'vis_params': {\n",
        "          'bands': ['B4', 'B3', 'B2'],\n",
        "          'min': 0,\n",
        "          'max': 3000,\n",
        "        }\n",
        "    },\n",
        "    'Dynamic World V1':{\n",
        "        'desc': 'Land Cover / Land Use Probabilities: Based on Sentinel-2, 2015-2100',\n",
        "        'base_collection': \"GOOGLE/DYNAMICWORLD/V1\",\n",
        "        'vis_params': {\n",
        "          'bands': 'label',\n",
        "          'min': 0,\n",
        "          'max': 8,\n",
        "          'palette': ['419BDF', '397D49', '88B053', '7A87C6',\n",
        "                      'E49635', 'DFC35A', 'C4281B', 'A59B8F', 'B39FE1']\n",
        "        }\n",
        "    },\n",
        "    'MOD14A1.061': {\n",
        "        'desc': 'Thermal Anomalies & Fire (MODIS) 2000-present',\n",
        "        'base_collection': \"MODIS/061/MOD14A1\",\n",
        "        'vis_params': {\n",
        "          'bands': ['MaxFRP', 'FireMask', 'FireMask'],\n",
        "          'min': 0,\n",
        "          'max': 6000,\n",
        "        }\n",
        "    },\n",
        "    'NEX-GDDP tas':{\n",
        "        'desc': 'Climate projection (tas; GFDL-ESM4; Scenario SSP245) 2015-2100',\n",
        "        'base_collection': \"NASA/GDDP-CMIP6\",\n",
        "        'filter': ee.Filter.And(\n",
        "            ee.Filter.eq('model', 'GFDL-ESM4'),\n",
        "            ee.Filter.eq('scenario', 'ssp245'),\n",
        "        ),\n",
        "        'vis_params': {\n",
        "          'bands': ['tas'], # Daily near-surface air temperature.\n",
        "          'min': 273.15 - 25,\n",
        "          'max': 273.15 + 50,\n",
        "          'palette': ['white', 'grey', 'pink', 'red']\n",
        "        }\n",
        "    },\n",
        "    'NEX-GDDP pr':{\n",
        "        'desc': 'Climate projection (pr; GFDL-ESM4; Scenario SSP245) 2015-2100',\n",
        "        'base_collection': \"NASA/GDDP-CMIP6\",\n",
        "        'filter': ee.Filter.And(\n",
        "            ee.Filter.eq('model', 'GFDL-ESM4'),\n",
        "            ee.Filter.eq('scenario', 'ssp245'),\n",
        "        ),\n",
        "        'vis_params': {\n",
        "          'bands': ['pr'], # Daily near-surface air temperature.\n",
        "          'min': 0,\n",
        "          'max': 5e-4,\n",
        "          'palette': ['white', 'blue']\n",
        "        }\n",
        "    },\n",
        "    'Landsat 9':{\n",
        "        'desc': 'Optical satellite, Landsat 9, 2021-',\n",
        "        'base_collection': \"LANDSAT/LC09/C02/T1_L2\",\n",
        "        'vis_params': {\n",
        "          'bands': ['SR_B4', 'SR_B3', 'SR_B2'],\n",
        "          'min': 0,\n",
        "          'max': 30000\n",
        "        }\n",
        "    },\n",
        "    'Landsat 8':{\n",
        "        'desc': 'Optical satellite, Landsat 8, 2013-2023',\n",
        "        'base_collection': \"LANDSAT/LC08/C02/T1_L2\",\n",
        "        'vis_params': {\n",
        "          'bands': ['SR_B4', 'SR_B3', 'SR_B2'],\n",
        "          'min': 0,\n",
        "          'max': 30000\n",
        "        }\n",
        "    },\n",
        "    'Landsat 7':{\n",
        "        'desc': 'Optical satellite, Landsat 7, 1999-2023',\n",
        "        'base_collection': \"LANDSAT/LE07/C02/T1_L2\",\n",
        "        'vis_params': {\n",
        "          'bands': ['SR_B3', 'SR_B2', 'SR_B1'],\n",
        "          'min': 0,\n",
        "          'max': 30000\n",
        "        }\n",
        "    },\n",
        "    'Landsat 5':{\n",
        "        'desc': 'Optical satellite, Landsat 5, 1984-2012',\n",
        "        'base_collection': \"LANDSAT/LT05/C02/T1_L2\",\n",
        "        'vis_params': {\n",
        "          'bands': ['SR_B3', 'SR_B2', 'SR_B1'],\n",
        "          'min': 0,\n",
        "          'max': 30000\n",
        "        }\n",
        "    },\n",
        "}"
      ],
      "metadata": {
        "id": "uqPuB1-ZxP40"
      },
      "execution_count": 5,
      "outputs": []
    },
    {
      "cell_type": "markdown",
      "source": [
        "Define widgets that allow a user to select a dataset, starting date and time interval."
      ],
      "metadata": {
        "id": "-tB2UMPmAJOv"
      }
    },
    {
      "cell_type": "code",
      "source": [
        "dataset_picker = widgets.Dropdown(\n",
        "    options=[(v['desc'], k) for k,v in datasets.items()],\n",
        "    description='Dataset:',\n",
        "    layout=widgets.Layout(width='600px')\n",
        ")\n",
        "\n",
        "date_picker = widgets.DatePicker(\n",
        "    description='Start Date:',\n",
        "    value=datetime.date(2023, 4, 28)\n",
        ")\n",
        "\n",
        "num_days_slider = widgets.IntSlider(\n",
        "    value=1,\n",
        "    min=1,\n",
        "    max=16,\n",
        "    step=1,\n",
        "    description='# Days:',\n",
        "    continuous_update=False\n",
        ")"
      ],
      "metadata": {
        "id": "CnNF9Qiwc4xu"
      },
      "execution_count": 6,
      "outputs": []
    },
    {
      "cell_type": "markdown",
      "source": [
        "Define a function to update the data layers displayed on the map. This function is called when the widget controls are updated."
      ],
      "metadata": {
        "id": "VOn9eEjl0b1-"
      }
    },
    {
      "cell_type": "code",
      "source": [
        "def update_map_layer(_map):\n",
        "  if len(_map.layers) > baselayer_count(_map):\n",
        "    # Remove the tile layer.\n",
        "    _map.remove_layer(_map.layers[baselayer_count(_map)])\n",
        "\n",
        "  if date_picker.value and num_days_slider.value:\n",
        "\n",
        "    dataset = datasets[dataset_picker.value]\n",
        "\n",
        "    # Select a collection of satellite images from a date window.\n",
        "    start_date = date_picker.value\n",
        "    end_date = date_picker.value + datetime.timedelta(days=num_days_slider.value)\n",
        "    collection = (\n",
        "        ee.ImageCollection(dataset['base_collection'])\n",
        "          .filterDate(\n",
        "              start_date.isoformat(),\n",
        "              end_date.isoformat()\n",
        "          )\n",
        "    )\n",
        "    if 'filter' in dataset:\n",
        "      collection = collection.filter(dataset['filter'])\n",
        "\n",
        "    # Add a new tile layer.\n",
        "    _map.addLayer(\n",
        "      eeObject=collection.mosaic(),\n",
        "      visParams=dataset['vis_params'],\n",
        "      name=dataset_picker.value\n",
        "    )"
      ],
      "metadata": {
        "id": "DWl7NCM2DBUt"
      },
      "execution_count": 7,
      "outputs": []
    },
    {
      "cell_type": "markdown",
      "source": [
        "Define a set of [basemap tile layers](https://ipyleaflet.readthedocs.io/en/latest/map_and_basemaps/basemaps.html) to display on the interactive map."
      ],
      "metadata": {
        "id": "T3_AdpE70DUM"
      }
    },
    {
      "cell_type": "code",
      "source": [
        "positron = ipyleaflet.basemap_to_tiles(ipyleaflet.basemaps.CartoDB.Positron)\n",
        "positron.base = True\n",
        "positron.name = 'Positron Layer'\n",
        "\n",
        "satellite = ipyleaflet.basemap_to_tiles(ipyleaflet.basemaps.Esri.WorldImagery)\n",
        "satellite.base = True\n",
        "satellite.name = 'Satellite Layer'\n",
        "\n",
        "def baselayer_count(map):\n",
        "  return len([x for x in map.layers if x.base])"
      ],
      "metadata": {
        "id": "MO4K5_bl0Nkq"
      },
      "execution_count": 8,
      "outputs": []
    },
    {
      "cell_type": "markdown",
      "source": [
        "Trigger updating the map when a widget is updated."
      ],
      "metadata": {
        "id": "O2yO4oWi4O4s"
      }
    },
    {
      "cell_type": "code",
      "source": [
        "def handle_dataset_change(change, **kwargs):\n",
        "  update_map_layer(map1.map)\n",
        "\n",
        "dataset_picker.observe(handle_dataset_change, names=['value'])\n",
        "\n",
        "def handle_date_change(change, **kwargs):\n",
        "  update_map_layer(map1.map)\n",
        "\n",
        "date_picker.observe(handle_date_change, names=['value'])\n",
        "\n",
        "def handle_num_days_change(change, **kwargs):\n",
        "  update_map_layer(map1.map)\n",
        "\n",
        "num_days_slider.observe(handle_num_days_change, names=['value'])"
      ],
      "metadata": {
        "id": "Ylslzpwi9AeS"
      },
      "execution_count": 9,
      "outputs": []
    },
    {
      "cell_type": "markdown",
      "source": [
        "Display the interactive map and widgets."
      ],
      "metadata": {
        "id": "7Kcu_YXc4Xtk"
      }
    },
    {
      "cell_type": "code",
      "source": [
        "map1 = MapWithInspector(\n",
        "    center=(48.895557, 2.388747), zoom=7,\n",
        "    layers=[satellite, positron]\n",
        ")\n",
        "update_map_layer(map1.map)\n",
        "widgets.VBox([\n",
        "    dataset_picker,\n",
        "    widgets.HBox([date_picker, num_days_slider]),\n",
        "    map1\n",
        "])"
      ],
      "metadata": {
        "colab": {
          "base_uri": "https://localhost:8080/",
          "height": 485,
          "referenced_widgets": [
            "4b086f7a4fa749b49ea88d8abc51ebc0",
            "53621f6405154e4a870dd689e6499fd3",
            "90b89871ad7a4b19b4a0ab305b621474",
            "3413cb903cf34d26b446f353171b99ac",
            "caa3b37476f643cda5e6816acf269163",
            "5174393f566e4ce2aca70d0d1072dcf3",
            "a802da3d27124080a65c3921481cb2ba",
            "629a5c4bf9e941889b579e4247b8f119",
            "6cb0a2d3c94e44cdac88f83f6391b927",
            "20b72892c728485aafbaf08db43f6cd4",
            "4ad1a87475194554afe4520d4c25b7d1",
            "1bffc50696c14487a5bf5db89f5f5c2e",
            "2516bbf7fbe74bf0a98e491cd0a2d570",
            "9f0bea766b92412fab9897aa8e1f52dd",
            "670c0247193b4413b7fe45a2de838a82",
            "03003c59d07e48c28ca00b4d5b1b08e6",
            "791ccfdb44dc40f389e8e6b031c0d230",
            "cd974b39ae334b2bae03cb159a2c7195",
            "c3e7232d9cb040ff8ce45b8e24604ac7",
            "b3554c5296fa4862bca79825d5aa7094",
            "c3af5ce603c1449ab12f4715f36885dc",
            "560c213856544b44aa7284f24028f6ea",
            "44d5318e4de94f91a9b95917514cae7b",
            "2b4f1edb0adf4d04baadae1b4e172dd9",
            "6c3329f3cd7741c2a90b748237c61492",
            "3ed3a8dcd21942b9896f4ef05fcac73d",
            "7e9cecc668854eec91d9b3ec7198c411",
            "c7d185cdce88477ebd4fe40ac0c31045",
            "0e7501a4d44d4d248aa0d5c29279d7df",
            "9875e496c1b8463fa9c29b5c65959924",
            "362004953e124017b6677323af14a3ce",
            "8fd494f5d6314e10809411e36318fb7f",
            "59c5e6cc6a6a4a2da1a33173c886ab21",
            "e89a940f06aa47a6a6ddb4721e301fcc",
            "60a8346a0c8140419fb9b766bd039dd4",
            "573c9fca220e4893ac60139eaa2a53a0",
            "32700fe9d9f64968aae39d91c34dda87",
            "b1df0bcd513646079407b3156aa6babc",
            "5aa8678ebbf44f94902b273c975e2b5c",
            "c93deeb6da0e45218dde5fd70d69c970",
            "7b64efc7d5de4d6a9442f335def88abc"
          ]
        },
        "id": "5st-sgPUAXwT",
        "outputId": "33b76c5f-0138-41c0-e5bf-51295a421d25"
      },
      "execution_count": 10,
      "outputs": [
        {
          "output_type": "display_data",
          "data": {
            "text/plain": [
              "VBox(children=(Dropdown(description='Dataset:', layout=Layout(width='600px'), options=(('Optical imagery: Sent…"
            ],
            "application/vnd.jupyter.widget-view+json": {
              "version_major": 2,
              "version_minor": 0,
              "model_id": "4b086f7a4fa749b49ea88d8abc51ebc0"
            }
          },
          "metadata": {
            "application/vnd.jupyter.widget-view+json": {
              "colab": {
                "custom_widget_manager": {
                  "url": "https://ssl.gstatic.com/colaboratory-static/widgets/colab-cdn-widget-manager/b3e629b1971e1542/manager.min.js"
                }
              }
            }
          }
        }
      ]
    },
    {
      "cell_type": "markdown",
      "source": [
        "## Exploring the Data\n",
        "\n",
        "Explore the data by doing the following:\n",
        "\n",
        "*   Pan/Zoom the map.\n",
        "*   Change the dataset selector.\n",
        "*   Change the start date and/or time interval."
      ],
      "metadata": {
        "id": "mMBRppHM5XyH"
      }
    },
    {
      "cell_type": "markdown",
      "source": [
        "If you find something interesting, you can use the following code block to print code that programmatically sets the widget controls."
      ],
      "metadata": {
        "id": "liDYD0tX4r5e"
      }
    },
    {
      "cell_type": "code",
      "source": [
        "print(f'map1.map.center = {map1.map.center}')\n",
        "print(f'map1.map.zoom = {map1.map.zoom}')\n",
        "print(f\"dataset_picker.value = '{dataset_picker.value}'\")\n",
        "print(f\"date_picker.value = datetime.date({date_picker.value.year}, \"\n",
        "                                        f\"{date_picker.value.month}, \"\n",
        "                                        f\"{date_picker.value.day})\")\n",
        "print(f'num_days_slider.value = {num_days_slider.value}')"
      ],
      "metadata": {
        "colab": {
          "base_uri": "https://localhost:8080/"
        },
        "id": "V6tqloAt9PCG",
        "outputId": "0bbc3b28-9c91-46b8-e80e-1f529751da6b"
      },
      "execution_count": 11,
      "outputs": [
        {
          "output_type": "stream",
          "name": "stdout",
          "text": [
            "map1.map.center = [48.895557, 2.388747]\n",
            "map1.map.zoom = 7.0\n",
            "dataset_picker.value = 'Sentinel-2'\n",
            "date_picker.value = datetime.date(2023, 4, 28)\n",
            "num_days_slider.value = 1\n"
          ]
        }
      ]
    },
    {
      "cell_type": "markdown",
      "source": [
        "## Examples"
      ],
      "metadata": {
        "id": "NlQ5ycN__qck"
      }
    },
    {
      "cell_type": "markdown",
      "source": [
        "### Recent fire in the Brazilian Amazon\n"
      ],
      "metadata": {
        "id": "EWULnWzv80Ks"
      }
    },
    {
      "cell_type": "code",
      "source": [
        "# Center map on Cité des sciences et de l'industrie, Paris.\n",
        "map1.map.center = [-11.58423973562834, -52.50580264266333]\n",
        "map1.map.zoom = 11.0\n",
        "dataset_picker.value = 'MOD14A1.061'\n",
        "date_picker.value = datetime.date(2023, 4, 28)\n",
        "num_days_slider.value = 10"
      ],
      "metadata": {
        "id": "Kz6wihWP8BSF"
      },
      "execution_count": 12,
      "outputs": []
    },
    {
      "cell_type": "markdown",
      "source": [
        "### Projected daily surface temperature for 2050 (a single simulation)"
      ],
      "metadata": {
        "id": "nMY4tyBPAgmE"
      }
    },
    {
      "cell_type": "code",
      "source": [
        "map1.map.center = [14.202428165137302, 64.63615416897834]\n",
        "map1.map.zoom = 2.0\n",
        "dataset_picker.value = 'NEX-GDDP tas'\n",
        "date_picker.value = datetime.date(2050, 7, 1)\n",
        "num_days_slider.value = 5"
      ],
      "metadata": {
        "id": "qm_zh1Ee9RZg"
      },
      "execution_count": 13,
      "outputs": []
    },
    {
      "cell_type": "markdown",
      "source": [
        "### Cité des sciences et de l'industrie, Paris, peeking through the clouds"
      ],
      "metadata": {
        "id": "IPgSM-LN5htI"
      }
    },
    {
      "cell_type": "code",
      "source": [
        "# Center map on Cité des sciences et de l'industrie, Paris.\n",
        "map1.map.center = (48.895557, 2.388747)\n",
        "map1.map.zoom = 11\n",
        "dataset_picker.value = 'Sentinel-2'\n",
        "date_picker.value = datetime.date(2023, 5, 8)\n",
        "num_days_slider.value = 1"
      ],
      "metadata": {
        "id": "eLr0Ect_hGRa"
      },
      "execution_count": 14,
      "outputs": []
    },
    {
      "cell_type": "code",
      "source": [],
      "metadata": {
        "id": "QLukb-U7cK1q"
      },
      "execution_count": 14,
      "outputs": []
    }
  ]
}